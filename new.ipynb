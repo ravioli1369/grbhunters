{
 "cells": [
  {
   "cell_type": "code",
   "execution_count": 1,
   "metadata": {},
   "outputs": [],
   "source": [
    "import processing_functions as pf\n",
    "import numpy as np\n",
    "import matplotlib.pyplot as plt\n",
    "import pandas as pd\n",
    "import scipy.stats as stats\n",
    "import warnings\n",
    "warnings.filterwarnings(\"ignore\")\n",
    "import matplotlib\n",
    "params={\n",
    "    'text.usetex':True,\n",
    "    'font.family':'serif',\n",
    "    'xtick.minor.visible':True,\n",
    "    'ytick.minor.visible':True,\n",
    "    'xtick.top':True,\n",
    "    'ytick.left':True,\n",
    "    'ytick.right':True,\n",
    "    'xtick.direction':'out',\n",
    "    'ytick.direction':'out',\n",
    "    'xtick.minor.size':2.5,\n",
    "    'xtick.major.size':5,\n",
    "    'ytick.minor.size':2.5,\n",
    "    'ytick.major.size':5,\n",
    "    'axes.axisbelow':True\n",
    "}\n",
    "matplotlib.rcParams.update(params)"
   ]
  },
  {
   "cell_type": "code",
   "execution_count": 9,
   "metadata": {},
   "outputs": [],
   "source": [
    "def plot_and_stats(filename, start, end, polyorder=3, in_bins=100, window=101, gauss=False, gamma=False, poisson=False, skewnorm=False, plot=False):\n",
    "    if gauss:\n",
    "        snr, n, bin_center, popt = pf.snr_gauss(filename, start, end, polyorder, in_bins, window)\n",
    "        mean, std = popt[1], popt[2]\n",
    "        noise = mean+3*std\n",
    "        signal = snr*noise\n",
    "        print('Gaussian fit mean: ', popt[1])\n",
    "        print('Gaussian fit std: ', popt[2])\n",
    "        print('Gaussian fit SNR: ', snr)\n",
    "        print('Gaussian fit signal: ', signal)\n",
    "        print('Gaussian fit noise: ', noise)\n",
    "        if plot:\n",
    "            plt.figure(figsize=(10, 5))\n",
    "            plt.bar(bin_center, n, width=1, color='b', alpha=0.5)\n",
    "            plt.plot(bin_center, pf.gaussian(bin_center, *popt), 'r--', linewidth=2)\n",
    "            plt.xlabel('Counts')\n",
    "            plt.ylabel('Frequency')\n",
    "            plt.title('Gaussian fit')\n",
    "            plt.show()\n",
    "    if gamma:\n",
    "        snr, n, bin_center, fit, popt = pf.snr_gamma(filename, start, end, polyorder, in_bins, window)\n",
    "        mean, std = -popt[2], np.sqrt(popt[1]*(popt[3])**2)\n",
    "        noise = mean+3*std\n",
    "        signal = snr*noise\n",
    "        print('Gamma fit mean: ', mean)\n",
    "        print('Gamma fit std: ', std)\n",
    "        print('Gamma fit SNR: ', snr)\n",
    "        print('Gamma fit signal: ', signal)\n",
    "        print('Gamma fit noise: ', noise)\n",
    "        if plot:\n",
    "            plt.figure(figsize=(10, 5))\n",
    "            plt.bar(bin_center, n, width=1, color='b', alpha=0.5)\n",
    "            plt.plot(bin_center, fit, 'r--', linewidth=2)\n",
    "            plt.xlabel('Counts')\n",
    "            plt.ylabel('Frequency')\n",
    "            plt.title('Gamma fit')\n",
    "            plt.show()\n",
    "    if poisson:\n",
    "        snr, n, bin_center, popt = pf.snr_poisson(filename, start, end, polyorder, in_bins, window)\n",
    "        mean, std = popt[0], np.sqrt(popt[0])\n",
    "        noise = mean+3*std\n",
    "        signal = snr*noise\n",
    "        print('Poisson fit mean: ', mean)\n",
    "        print('Poisson fit std: ', std)\n",
    "        print('Poisson fit SNR: ', snr)\n",
    "        print('Poisson fit signal: ', signal)\n",
    "        print('Poisson fit noise: ', noise)\n",
    "        if plot:\n",
    "            plt.figure(figsize=(10, 5))\n",
    "            plt.bar(bin_center, n, width=1, color='b', alpha=0.5)\n",
    "            plt.plot(bin_center, pf.poisson_fit(bin_center, *popt), 'r--', linewidth=2)\n",
    "            plt.xlabel('Counts')\n",
    "            plt.ylabel('Frequency')\n",
    "            plt.title('Poisson fit')\n",
    "            plt.show()\n",
    "    if skewnorm:\n",
    "        snr, n, bin_center, fit, popt = pf.snr_skewnorm(filename, start, end, polyorder, in_bins, window)\n",
    "        mean, std = -popt[2], stats.skewnorm.std(popt[1], scale=popt[3])\n",
    "        noise = mean+3*std\n",
    "        signal = snr*noise\n",
    "        print('Skewnorm fit mean: ', mean)\n",
    "        print('Skewnorm fit std: ', std)\n",
    "        print('Skewnorm fit SNR: ', snr)\n",
    "        print('Skewnorm fit signal: ', signal)\n",
    "        print('Skewnorm fit noise: ', noise)\n",
    "        if plot:\n",
    "            plt.figure(figsize=(10, 5))\n",
    "            plt.bar(bin_center, n, width=1, color='b', alpha=0.5)\n",
    "            plt.plot(bin_center, fit, 'r--', linewidth=2)\n",
    "            plt.xlabel('Counts')\n",
    "            plt.ylabel('Frequency')\n",
    "            plt.title('Skewnorm fit')\n",
    "            plt.show()\n",
    "    return snr, signal, noise, mean, std"
   ]
  },
  {
   "cell_type": "code",
   "execution_count": 131,
   "metadata": {},
   "outputs": [
    {
     "data": {
      "text/plain": [
       "126.25"
      ]
     },
     "execution_count": 131,
     "metadata": {},
     "output_type": "execute_result"
    }
   ],
   "source": [
    "101/0.8"
   ]
  },
  {
   "cell_type": "code",
   "execution_count": null,
   "metadata": {},
   "outputs": [],
   "source": []
  },
  {
   "cell_type": "code",
   "execution_count": 145,
   "metadata": {},
   "outputs": [
    {
     "name": "stdout",
     "output_type": "stream",
     "text": [
      "Gamma fit mean:  101.70631048732821\n",
      "Gamma fit std:  11.143816209487918\n",
      "Gamma fit SNR:  0.915663258879889\n",
      "Gamma fit signal:  123.74068090969149\n",
      "Gamma fit noise:  135.13775911579197\n"
     ]
    },
    {
     "data": {
      "image/png": "[encoded data removed]",
      "text/plain": [
       "<Figure size 1000x500 with 1 Axes>"
      ]
     },
     "metadata": {},
     "output_type": "display_data"
    }
   ],
   "source": [
    "_ = plot_and_stats('/home/ravioli/astro/ksp/grb/GRB160909A/1s/AS1G05_102T01_9000000650_05136cztM0_level2_quad_clean_Q0.lc', 830, 845, window=101, gamma=True, plot=True, in_bins=300)"
   ]
  },
  {
   "cell_type": "code",
   "execution_count": null,
   "metadata": {},
   "outputs": [],
   "source": []
  }
 ],
 "metadata": {
  "kernelspec": {
   "display_name": "astro",
   "language": "python",
   "name": "python3"
  },
  "language_info": {
   "codemirror_mode": {
    "name": "ipython",
    "version": 3
   },
   "file_extension": ".py",
   "mimetype": "text/x-python",
   "name": "python",
   "nbconvert_exporter": "python",
   "pygments_lexer": "ipython3",
   "version": "3.9.17"
  },
  "orig_nbformat": 4
 },
 "nbformat": 4,
 "nbformat_minor": 2
}
