{
 "cells": [
  {
   "cell_type": "code",
   "execution_count": 1,
   "metadata": {},
   "outputs": [],
   "source": [
    "from astropy.io import fits\n",
    "from scipy.signal import savgol_filter\n",
    "import warnings\n",
    "warnings.filterwarnings('ignore')\n",
    "import matplotlib.pyplot as plt\n",
    "import numpy as np\n",
    "import matplotlib\n",
    "import processing_functions as pf\n",
    "import scipy.stats as stats\n",
    "import scipy.special as sps\n",
    "import scipy.optimize as opt\n",
    "params={\n",
    "    'text.usetex':True,\n",
    "    'font.family':'serif',\n",
    "    'xtick.minor.visible':True,\n",
    "    'ytick.minor.visible':True,\n",
    "    'xtick.top':True,\n",
    "    'ytick.left':True,\n",
    "    'ytick.right':True,\n",
    "    'xtick.direction':'out',\n",
    "    'ytick.direction':'out',\n",
    "    'xtick.minor.size':2.5,\n",
    "    'xtick.major.size':5,\n",
    "    'ytick.minor.size':2.5,\n",
    "    'ytick.major.size':5,\n",
    "    'axes.axisbelow':True\n",
    "}\n",
    "matplotlib.rcParams.update(params)"
   ]
  }
 ],
 "metadata": {
  "kernelspec": {
   "display_name": "base",
   "language": "python",
   "name": "python3"
  },
  "language_info": {
   "codemirror_mode": {
    "name": "ipython",
    "version": 3
   },
   "file_extension": ".py",
   "mimetype": "text/x-python",
   "name": "python",
   "nbconvert_exporter": "python",
   "pygments_lexer": "ipython3",
   "version": "3.9.17"
  },
  "orig_nbformat": 4
 },
 "nbformat": 4,
 "nbformat_minor": 2
}
