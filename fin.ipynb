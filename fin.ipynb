{
 "cells": [
  {
   "cell_type": "code",
   "execution_count": null,
   "metadata": {},
   "outputs": [],
   "source": [
    "'''\n",
    "@File    :   thend.ipynb\n",
    "@Time    :   2023/07/23 14:57:22\n",
    "@Author  :   Ravi K.\n",
    "@Desc    :   A notebook for testing combination of everything we have done.\n",
    "'''"
   ]
  },
  {
   "cell_type": "code",
   "execution_count": 1,
   "metadata": {},
   "outputs": [],
   "source": [
    "import processing_functions as pf\n",
    "import numpy as np\n",
    "import matplotlib.pyplot as plt\n",
    "import matplotlib\n",
    "params={\n",
    "    'text.usetex':True,\n",
    "    'font.family':'serif',\n",
    "    'xtick.minor.visible':True,\n",
    "    'ytick.minor.visible':True,\n",
    "    'xtick.top':True,\n",
    "    'ytick.left':True,\n",
    "    'ytick.right':True,\n",
    "    'xtick.direction':'out',\n",
    "    'ytick.direction':'out',\n",
    "    'xtick.minor.size':2.5,\n",
    "    'xtick.major.size':5,\n",
    "    'ytick.minor.size':2.5,\n",
    "    'ytick.major.size':5,\n",
    "    'axes.axisbelow':True\n",
    "}\n",
    "matplotlib.rcParams.update(params)"
   ]
  },
  {
   "cell_type": "code",
   "execution_count": null,
   "metadata": {},
   "outputs": [],
   "source": []
  }
 ],
 "metadata": {
  "kernelspec": {
   "display_name": "astro",
   "language": "python",
   "name": "python3"
  },
  "language_info": {
   "codemirror_mode": {
    "name": "ipython",
    "version": 3
   },
   "file_extension": ".py",
   "mimetype": "text/x-python",
   "name": "python",
   "nbconvert_exporter": "python",
   "pygments_lexer": "ipython3",
   "version": "3.9.17"
  },
  "orig_nbformat": 4
 },
 "nbformat": 4,
 "nbformat_minor": 2
}
