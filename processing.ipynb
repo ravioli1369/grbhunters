{
 "cells": [
  {
   "cell_type": "code",
   "execution_count": 3,
   "metadata": {},
   "outputs": [],
   "source": [
    "from astropy.io import fits\n",
    "import matplotlib.pyplot as plt\n",
    "import numpy as np\n",
    "from scipy.signal import savgol_filter\n",
    "from scipy.ndimage import median_filter\n",
    "import scipy as sp\n",
    "from scipy.optimize import curve_fit"
   ]
  },
  {
   "cell_type": "code",
   "execution_count": 2,
   "metadata": {},
   "outputs": [],
   "source": [
    "def openlc(filename):\n",
    "    hdul = fits.open(filename)\n",
    "    data = hdul[1].data\n",
    "    hdul.close()\n",
    "    return data"
   ]
  },
  {
   "cell_type": "code",
   "execution_count": 4,
   "metadata": {},
   "outputs": [],
   "source": [
    "def filter_and_detrend(filename, start, end, polyorder):\n",
    "    data = openlc(filename)\n",
    "    south_atlantic_start = np.where(data['RATE'] == 0)[0][0]\n",
    "    south_atlantic_end = np.where(data['RATE'] == 0)[0][-1]\n",
    "    if end<south_atlantic_start:\n",
    "        data['RATE'][start:end] -= (np.mean([data['RATE'][:start]]) + np.mean(data['RATE'][end:south_atlantic_start] + np.mean(data['RATE'][south_atlantic_end:])))/3\n",
    "        data['RATE'][:start] -= savgol_filter(data['RATE'][:start], 10, polyorder)\n",
    "        data['RATE'][end:south_atlantic_start] -= savgol_filter(data[end:south_atlantic_start], 10, polyorder)\n",
    "        data['RATE'][south_atlantic_end:] -= savgol_filter(data[south_atlantic_end:], 10, polyorder)\n",
    "    elif start>south_atlantic_end:\n",
    "        data['RATE'][start:end] -= (np.mean([data['RATE'][:south_atlantic_start]]) + np.mean(data['RATE'][south_atlantic_end:start] + np.mean(data['RATE'][end:])))/3\n",
    "        data['RATE'][:south_atlantic_start] -= savgol_filter(data['RATE'][:south_atlantic_start], 10, polyorder)\n",
    "        data['RATE'][south_atlantic_end:start] -= savgol_filter(data['RATE'][south_atlantic_end:start], 10, polyorder)\n",
    "        data['RATE'][end:] -= savgol_filter(data['RATE'][end:], 10, polyorder)\n",
    "    else:\n",
    "        print('Inputted start and end times are not valid')\n",
    "    return data, south_atlantic_start, south_atlantic_end"
   ]
  },
  {
   "cell_type": "code",
   "execution_count": 7,
   "metadata": {},
   "outputs": [],
   "source": [
    "def snr_rms(filename, start, end, polyorder):\n",
    "    data, south_atlantic_start, south_atlantic_end = filter_and_detrend(filename, start, end, polyorder)\n",
    "    if end<south_atlantic_start:\n",
    "        rms = np.sqrt(np.mean(data['RATE'][:start]**2))   #ignoring the noise after the GRB\n",
    "        signal = max(data['RATE'][start:end])\n",
    "        snr = signal/rms\n",
    "    elif start>south_atlantic_end:\n",
    "        rms = np.sqrt(np.mean(data['RATE'][:south_atlantic_start]**2+data['RATE'][south_atlantic_end:start]**2))\n",
    "        signal = max(data['RATE'][start:end])\n",
    "        snr = signal/rms\n",
    "    else:\n",
    "        print('Inputted start and end times are not valid')\n",
    "        snr = 0\n",
    "    return snr"
   ]
  },
  {
   "cell_type": "code",
   "execution_count": 8,
   "metadata": {},
   "outputs": [],
   "source": [
    "def snr_abs(filename, start, end, polyorder):\n",
    "    data, south_atlantic_start, south_atlantic_end = filter_and_detrend(filename, start, end, polyorder)\n",
    "    if end<south_atlantic_start:\n",
    "        abs = np.mean(np.abs(data['RATE'][:start]))\n",
    "        signal = max(data['RATE'][start:end])\n",
    "        snr = signal/abs\n",
    "    elif start>south_atlantic_end:\n",
    "        abs = (np.mean(np.abs(data['RATE'][:south_atlantic_start]))+np.mean(np.abs(data['RATE'][south_atlantic_end:start])))/2\n",
    "        signal = max(data['RATE'][start:end])\n",
    "        snr = signal/abs\n",
    "    else:\n",
    "        print('Inputted start and end times are not valid')\n",
    "        snr = 0\n",
    "    return snr"
   ]
  },
  {
   "cell_type": "code",
   "execution_count": 9,
   "metadata": {},
   "outputs": [],
   "source": [
    "def gaussian(x, A, m, s, c):\n",
    "    return A*np.exp(-(x-m)**2/(2*s**2)) + c"
   ]
  },
  {
   "cell_type": "code",
   "execution_count": 11,
   "metadata": {},
   "outputs": [],
   "source": [
    "def snr_gauss(filename, start, end, polyorder):\n",
    "    data, south_atlantic_start, south_atlantic_end = filter_and_detrend(filename, start, end, polyorder)\n",
    "    if end<south_atlantic_start:\n",
    "        n, bins = np.histogram(data['RATE'][:start], bins=80)\n",
    "        bin_center = np.array([0.5*(bins[i]+bins[i+1]) for i in range(len(bins)-1)])\n",
    "        popt, pcov = curve_fit(gaussian, bin_center, n, p0=[max(n), np.mean(data['RATE'][:start]), np.std(data['RATE'][:start]), 0])\n",
    "        gauss1 = popt[1]+3*popt[2]\n",
    "        n, bins = np.histogram(data['RATE'][end:south_atlantic_start], bins=80)\n",
    "        bin_center = np.array([0.5*(bins[i]+bins[i+1]) for i in range(len(bins)-1)])\n",
    "        popt, pcov = curve_fit(gaussian, bin_center, n, p0=[max(n), np.mean(data['RATE'][end:south_atlantic_start]), np.std(data['RATE'][end:south_atlantic_start]), 0])\n",
    "        gauss2 = popt[1]+3*popt[2]\n",
    "        n, bins = np.histogram(data['RATE'][south_atlantic_end:], bins=80)\n",
    "        bin_center = np.array([0.5*(bins[i]+bins[i+1]) for i in range(len(bins)-1)])\n",
    "        popt, pcov = curve_fit(gaussian, bin_center, n, p0=[max(n), np.mean(data['RATE'][south_atlantic_end:]), np.std(data['RATE'][south_atlantic_end:]), 0])\n",
    "        gauss3 = popt[1]+3*popt[2]\n",
    "        gauss = (gauss1+gauss2+gauss3)/3\n",
    "        signal = max(data['RATE'][start:end])\n",
    "        snr = signal/gauss\n",
    "    elif start>south_atlantic_end:\n",
    "        n, bins = np.histogram(data['RATE'][:south_atlantic_start], bins=80)\n",
    "        bin_center = np.array([0.5*(bins[i]+bins[i+1]) for i in range(len(bins)-1)])\n",
    "        popt, pcov = curve_fit(gaussian, bin_center, n, p0=[max(n), np.mean(data['RATE'][:south_atlantic_start]), np.std(data['RATE'][:south_atlantic_start]), 0])\n",
    "        gauss1 = popt[1]+3*popt[2]\n",
    "        n, bins = np.histogram(data['RATE'][south_atlantic_end:start], bins=80)\n",
    "        bin_center = np.array([0.5*(bins[i]+bins[i+1]) for i in range(len(bins)-1)])\n",
    "        popt, pcov = curve_fit(gaussian, bin_center, n, p0=[max(n), np.mean(data['RATE'][south_atlantic_end:start]), np.std(data['RATE'][south_atlantic_end:start]), 0])\n",
    "        gauss2 = popt[1]+3*popt[2]\n",
    "        n, bins = np.histogram(data['RATE'][end:], bins=80)\n",
    "        bin_center = np.array([0.5*(bins[i]+bins[i+1]) for i in range(len(bins)-1)])\n",
    "        popt, pcov = curve_fit(gaussian, bin_center, n, p0=[max(n), np.mean(data['RATE'][end:]), np.std(data['RATE'][end:]), 0])\n",
    "        gauss3 = popt[1]+3*popt[2]\n",
    "        gauss = (gauss1+gauss2+gauss3)/3\n",
    "        signal = max(data['RATE'][start:end])\n",
    "        snr = signal/gauss\n",
    "    else:\n",
    "        print('Inputted start and end times are not valid')\n",
    "        snr = 0\n",
    "    return snr"
   ]
  },
  {
   "cell_type": "code",
   "execution_count": null,
   "metadata": {},
   "outputs": [],
   "source": [
    "def snr_counts(filename, start, end, polyorder):\n",
    "    data, south_atlantic_start, south_atlantic_end = filter_and_detrend(filename, start, end, polyorder)\n",
    "    duration_lc = data['TIME'][-1]-data['TIME'][0]\n",
    "    duration_burst = data['TIME'][end]-data['TIME'][start]\n",
    "    duration_sao = data['TIME'][south_atlantic_end]-data['TIME'][south_atlantic_start]\n",
    "    duration_noise = duration_lc-duration_burst-duration_sao\n",
    "    if end<south_atlantic_start:\n",
    "        signal = np.sum(data['RATE'][start:end])/duration_burst\n",
    "        noise = np.sum(data['RATE'][:start])/duration_noise + np.sum(data['RATE'][end:south_atlantic_start])/duration_noise + np.sum(data['RATE'][south_atlantic_end:])/duration_noise\n",
    "        snr = signal/noise\n",
    "    elif start>south_atlantic_end:\n",
    "        signal = np.sum(data['RATE'][start:end])/duration_burst\n",
    "        noise = np.sum(data['RATE'][:south_atlantic_start])/duration_noise + np.sum(data['RATE'][south_atlantic_end:start])/duration_noise + np.sum(data['RATE'][end:])/duration_noise\n",
    "        snr = signal/noise\n",
    "    else:\n",
    "        print('Inputted start and end times are not valid')\n",
    "        snr = 0\n",
    "    return snr"
   ]
  }
 ],
 "metadata": {
  "kernelspec": {
   "display_name": "base",
   "language": "python",
   "name": "python3"
  },
  "language_info": {
   "codemirror_mode": {
    "name": "ipython",
    "version": 3
   },
   "file_extension": ".py",
   "mimetype": "text/x-python",
   "name": "python",
   "nbconvert_exporter": "python",
   "pygments_lexer": "ipython3",
   "version": "3.9.16"
  },
  "orig_nbformat": 4
 },
 "nbformat": 4,
 "nbformat_minor": 2
}
